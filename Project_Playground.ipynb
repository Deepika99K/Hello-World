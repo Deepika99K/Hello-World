{
  "nbformat": 4,
  "nbformat_minor": 0,
  "metadata": {
    "colab": {
      "provenance": [],
      "authorship_tag": "ABX9TyOh78ywKAjQK5TTPyipCDTH",
      "include_colab_link": true
    },
    "kernelspec": {
      "name": "python3",
      "display_name": "Python 3"
    },
    "language_info": {
      "name": "python"
    }
  },
  "cells": [
    {
      "cell_type": "markdown",
      "metadata": {
        "id": "view-in-github",
        "colab_type": "text"
      },
      "source": [
        "<a href=\"https://colab.research.google.com/github/Deepika99K/Hello-World/blob/main/Project_Playground.ipynb\" target=\"_parent\"><img src=\"https://colab.research.google.com/assets/colab-badge.svg\" alt=\"Open In Colab\"/></a>"
      ]
    },
    {
      "cell_type": "code",
      "execution_count": null,
      "metadata": {
        "id": "6XNsF2oQRE9Q"
      },
      "outputs": [],
      "source": [
        "import zipfile\n",
        "\n",
        "zipfile.ZipFile('Project.zip').extractall()"
      ]
    },
    {
      "cell_type": "code",
      "source": [
        "from dtsc5502.version import __version__\n",
        "from dtsc5502.statistics import descriptive as stats\n",
        "from dtsc5502.probablities import functions as probs\n",
        "\n",
        "print(__version__)\n",
        "lst = [1,2,3]\n",
        "print(stats.mean(lst))\n",
        "print(probs.factorial(3))"
      ],
      "metadata": {
        "id": "cQQj_MBSTbHn",
        "colab": {
          "base_uri": "https://localhost:8080/"
        },
        "outputId": "49fcde23-fa73-4159-eb72-a66ce7a4c7af"
      },
      "execution_count": 17,
      "outputs": [
        {
          "output_type": "stream",
          "name": "stdout",
          "text": [
            "0.1.0\n",
            "2.0\n",
            "3\n"
          ]
        }
      ]
    },
    {
      "cell_type": "code",
      "source": [],
      "metadata": {
        "id": "F_ENbqIAZ7Ua"
      },
      "execution_count": null,
      "outputs": []
    }
  ]
}